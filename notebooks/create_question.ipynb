{
 "cells": [
  {
   "cell_type": "code",
   "execution_count": 1,
   "metadata": {},
   "outputs": [],
   "source": [
    "from youtube_transcript_api import YouTubeTranscriptApi\n",
    "import numpy as np\n",
    "\n",
    "transcript_list = YouTubeTranscriptApi.list_transcripts('5ExD43Qo_9s')"
   ]
  },
  {
   "cell_type": "code",
   "execution_count": 2,
   "metadata": {},
   "outputs": [],
   "source": [
    "t = next(iter(transcript_list)).fetch()"
   ]
  },
  {
   "cell_type": "code",
   "execution_count": 4,
   "metadata": {},
   "outputs": [],
   "source": [
    "all_text = ''\n",
    "for d in t:\n",
    "    all_text += d['text']\n",
    "    all_text += \" \"\n"
   ]
  },
  {
   "cell_type": "code",
   "execution_count": 12,
   "metadata": {},
   "outputs": [
    {
     "data": {
      "text/plain": [
       "\"foreign foreign foreign foreign Darlings this is hello life English advents devilish Diva the one and only narissa Raven craft for some reason I just can't seem yet to get my my intro down perfectly no matter how many times they practice it every single time without fail [Laughter] how's everyone doing today I missed you what's up what's up what's up what's up what's up I saw some of you or refugees from bibu stream she's trying to get it up and running again but feel free to watch both of us while you wait I missed you guys yesterday was so much fun though did you guys have fun in the in the collaboration stream I had a lot of fun I was a it was a little scary of a game but we're playing another apparently scary game today still catching up on the VOD that's okay there are lots of Clips I saw there were so many Fantastic clips that came out of that stream um yeah it was very exciting sorry to start out with a little zatsu content but like it was my first time playing that and I have I\""
      ]
     },
     "execution_count": 12,
     "metadata": {},
     "output_type": "execute_result"
    }
   ],
   "source": [
    "all_text[:1000]"
   ]
  },
  {
   "cell_type": "markdown",
   "metadata": {},
   "source": []
  }
 ],
 "metadata": {
  "kernelspec": {
   "display_name": "youtube-dictation-DJpFP61h-py3.10",
   "language": "python",
   "name": "python3"
  },
  "language_info": {
   "codemirror_mode": {
    "name": "ipython",
    "version": 3
   },
   "file_extension": ".py",
   "mimetype": "text/x-python",
   "name": "python",
   "nbconvert_exporter": "python",
   "pygments_lexer": "ipython3",
   "version": "3.10.10"
  },
  "orig_nbformat": 4
 },
 "nbformat": 4,
 "nbformat_minor": 2
}
