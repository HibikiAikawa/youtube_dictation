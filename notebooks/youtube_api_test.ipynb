{
 "cells": [
  {
   "cell_type": "code",
   "execution_count": 1,
   "metadata": {},
   "outputs": [],
   "source": [
    "from youtube_transcript_api import YouTubeTranscriptApi\n",
    "import numpy as np\n",
    "\n",
    "transcript_list = YouTubeTranscriptApi.list_transcripts('gg3SrFzHn9M')"
   ]
  },
  {
   "cell_type": "code",
   "execution_count": 2,
   "metadata": {},
   "outputs": [],
   "source": [
    "t = next(iter(transcript_list)).fetch()"
   ]
  },
  {
   "cell_type": "code",
   "execution_count": 99,
   "metadata": {},
   "outputs": [
    {
     "name": "stdout",
     "output_type": "stream",
     "text": [
      "1881.899\n",
      "to go on and move on to the next screen\n",
      "I have a few more things I need to get\n",
      "through and show you\n"
     ]
    }
   ],
   "source": [
    "idx = np.random.randint(1, len(t)-2)\n",
    "\n",
    "start_time = t[idx]['start']\n",
    "pre_sentence = t[idx]['text']\n",
    "sentence = t[idx+1]['text']\n",
    "post_sentence = t[idx+2]['text']\n",
    "\n",
    "print(pre_sentence)\n",
    "print(sentence)\n",
    "print(post_sentence)"
   ]
  },
  {
   "cell_type": "code",
   "execution_count": 100,
   "metadata": {},
   "outputs": [
    {
     "data": {
      "text/plain": [
       "18881"
      ]
     },
     "execution_count": 100,
     "metadata": {},
     "output_type": "execute_result"
    }
   ],
   "source": [
    "int(18881.8)"
   ]
  },
  {
   "cell_type": "code",
   "execution_count": 94,
   "metadata": {},
   "outputs": [
    {
     "data": {
      "text/plain": [
       "True"
      ]
     },
     "execution_count": 94,
     "metadata": {},
     "output_type": "execute_result"
    }
   ],
   "source": [
    "'[' in pre_sentence + sentence + post_sentence"
   ]
  }
 ],
 "metadata": {
  "kernelspec": {
   "display_name": "youtube-dictation-DJpFP61h-py3.10",
   "language": "python",
   "name": "python3"
  },
  "language_info": {
   "codemirror_mode": {
    "name": "ipython",
    "version": 3
   },
   "file_extension": ".py",
   "mimetype": "text/x-python",
   "name": "python",
   "nbconvert_exporter": "python",
   "pygments_lexer": "ipython3",
   "version": "3.10.10"
  },
  "orig_nbformat": 4
 },
 "nbformat": 4,
 "nbformat_minor": 2
}
